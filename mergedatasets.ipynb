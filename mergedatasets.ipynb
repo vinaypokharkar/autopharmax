{
  "nbformat": 4,
  "nbformat_minor": 0,
  "metadata": {
    "colab": {
      "provenance": [],
      "gpuType": "T4"
    },
    "kernelspec": {
      "name": "python3",
      "display_name": "Python 3"
    },
    "language_info": {
      "name": "python"
    },
    "accelerator": "GPU"
  },
  "cells": [
    {
      "cell_type": "code",
      "execution_count": null,
      "metadata": {
        "colab": {
          "base_uri": "https://localhost:8080/"
        },
        "id": "P1mCS8UfZGeG",
        "outputId": "1281cfb9-142c-4a7a-ad71-64f0d99a7265"
      },
      "outputs": [
        {
          "output_type": "stream",
          "name": "stderr",
          "text": [
            "/usr/local/lib/python3.12/dist-packages/openpyxl/worksheet/_reader.py:329: UserWarning: Unknown extension is not supported and will be removed\n",
            "  warn(msg)\n"
          ]
        }
      ],
      "source": [
        "import pandas as pd\n",
        "\n",
        "# Read datasets\n",
        "gdsc = pd.read_csv('GDSC_DATASET.csv')\n",
        "cell_lines = pd.read_excel('Cell_Lines_Details.xlsx')\n",
        "\n",
        "# Merge on cell line ID\n",
        "merged = gdsc.merge(cell_lines,\n",
        "                    left_on='COSMIC_ID',\n",
        "                    right_on='COSMIC identifier',\n",
        "                    how='left')\n"
      ]
    },
    {
      "cell_type": "code",
      "source": [
        "import pandas as pd\n",
        "\n",
        "# Load datasets\n",
        "gdsc = pd.read_csv('GDSC_DATASET.csv')\n",
        "cell_lines = pd.read_excel('Cell_Lines_Details.xlsx')\n",
        "\n",
        "# Merge on cell line key\n",
        "merged = gdsc.merge(cell_lines, left_on='COSMIC_ID', right_on='COSMIC identifier', how='left')\n",
        "\n",
        "# (optional) validate merge with cell line names and resolve discrepancies\n",
        "# merged = merged[(merged['CELL_LINE_NAME'] == merged['Sample Name'])]\n",
        "\n",
        "# Handle missing values by dropping rows with any missing values\n",
        "merged = merged.dropna()\n",
        "\n",
        "# Inspect merged DataFrame\n",
        "print(merged.head())\n",
        "\n",
        "# Export the merged DataFrame to a CSV file\n",
        "merged.to_csv('merged_data.csv', index=False)"
      ],
      "metadata": {
        "colab": {
          "base_uri": "https://localhost:8080/"
        },
        "id": "PsC5IImBaHmt",
        "outputId": "2595ed3b-bb5f-482c-ec04-f27412cfafa9"
      },
      "execution_count": null,
      "outputs": [
        {
          "output_type": "stream",
          "name": "stderr",
          "text": [
            "/usr/local/lib/python3.12/dist-packages/openpyxl/worksheet/_reader.py:329: UserWarning: Unknown extension is not supported and will be removed\n",
            "  warn(msg)\n"
          ]
        },
        {
          "output_type": "stream",
          "name": "stdout",
          "text": [
            "   COSMIC_ID CELL_LINE_NAME TCGA_DESC  DRUG_ID     DRUG_NAME   LN_IC50  \\\n",
            "0     683667         PFSK-1        MB     1003  Camptothecin -1.463887   \n",
            "5     687448       COLO-829      SKCM     1003  Camptothecin -1.235034   \n",
            "7     687455            RT4      BLCA     1003  Camptothecin -2.963191   \n",
            "8     687457          SW780      BLCA     1003  Camptothecin -1.449138   \n",
            "9     687459         TCCSUP      BLCA     1003  Camptothecin -2.350633   \n",
            "\n",
            "        AUC   Z_SCORE GDSC Tissue descriptor 1 GDSC Tissue descriptor 2  ...  \\\n",
            "0  0.930220  0.433123           nervous_system          medulloblastoma  ...   \n",
            "5  0.867348  0.557727                     skin                 melanoma  ...   \n",
            "7  0.821438 -0.383200        urogenital_system                  Bladder  ...   \n",
            "8  0.905050  0.441154        urogenital_system                  Bladder  ...   \n",
            "9  0.843430 -0.049682        urogenital_system                  Bladder  ...   \n",
            "\n",
            "  Copy Number Alterations (CNA) Gene Expression_y Methylation_y  \\\n",
            "0                             Y                 Y             Y   \n",
            "5                             Y                 Y             Y   \n",
            "7                             Y                 Y             Y   \n",
            "8                             Y                 Y             Y   \n",
            "9                             Y                 Y             Y   \n",
            "\n",
            "  Drug\\nResponse GDSC\\nTissue descriptor 1 GDSC\\nTissue\\ndescriptor 2  \\\n",
            "0              Y            nervous_system            medulloblastoma   \n",
            "5              Y                      skin                   melanoma   \n",
            "7              Y         urogenital_system                    Bladder   \n",
            "8              Y         urogenital_system                    Bladder   \n",
            "9              Y         urogenital_system                    Bladder   \n",
            "\n",
            "  Cancer Type\\n(matching TCGA label)  \\\n",
            "0                                 MB   \n",
            "5                               SKCM   \n",
            "7                               BLCA   \n",
            "8                               BLCA   \n",
            "9                               BLCA   \n",
            "\n",
            "  Microsatellite \\ninstability Status (MSI) Screen Medium_y  \\\n",
            "0                                 MSS/MSI-L               R   \n",
            "5                                 MSS/MSI-L               R   \n",
            "7                                 MSS/MSI-L           D/F12   \n",
            "8                                 MSS/MSI-L           D/F12   \n",
            "9                                 MSS/MSI-L           D/F12   \n",
            "\n",
            "  Growth Properties_y  \n",
            "0            Adherent  \n",
            "5            Adherent  \n",
            "7            Adherent  \n",
            "8            Adherent  \n",
            "9            Adherent  \n",
            "\n",
            "[5 rows x 32 columns]\n"
          ]
        }
      ]
    },
    {
      "cell_type": "code",
      "source": [],
      "metadata": {
        "id": "MsAtb7oca4Rg"
      },
      "execution_count": null,
      "outputs": []
    }
  ]
}